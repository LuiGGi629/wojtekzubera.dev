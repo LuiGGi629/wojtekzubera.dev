{
 "cells": [
  {
   "cell_type": "code",
   "execution_count": 67,
   "metadata": {
    "collapsed": true,
    "pycharm": {
     "is_executing": false
    }
   },
   "outputs": [
    {
     "name": "stdout",
     "text": [
      "How many words have I written in this blog? --> 9\n"
     ],
     "output_type": "stream"
    }
   ],
   "source": [
    "# Source: @Jac_McQ\n",
    "import pathlib\n",
    "import re\n",
    "import io\n",
    "from pathlib import Path\n",
    "from typing import Any, Union, List\n",
    "from nbformat import current\n",
    "test_sentence = \"How many words have I written in this blog?\"\n",
    "\n",
    "print(f\"{test_sentence} --> {len(test_sentence.split())}\")"
   ]
  },
  {
   "cell_type": "code",
   "execution_count": 68,
   "outputs": [],
   "source": [
    "# Source: https://github.com/gandreadis/markdown-word-count\n",
    "def count_words_in_markdown(file_path: str):\n",
    "    with open(file_path, 'r', encoding='utf8') as f:\n",
    "        text = f.read()\n",
    "    \n",
    "    # Comments    \n",
    "    text = re.sub(r'<!--(.*?)-->', '', text, flags=re.MULTILINE)\n",
    "    # Tabs to spaces\n",
    "    text = text.replace('\\t', '    ')\n",
    "    # More than 1 space to 4 spaces\n",
    "    text = re.sub(r'[ ]{2,}', '    ', text)\n",
    "    # Footnotes\n",
    "    text = re.sub(r'^\\[[^]]*\\][^(].*', '', text, flags=re.MULTILINE)\n",
    "    # Indented blocks of code\n",
    "    text = re.sub(r'^( {4,}[^-*]).*', '', text, flags=re.MULTILINE)\n",
    "    # Replace newlines with spaces for uniform handling\n",
    "    text = text.replace('\\n', ' ')\n",
    "    # Custom header IDs\n",
    "    text = re.sub(r'{#.*}', '', text)\n",
    "    # Remove images\n",
    "    text = re.sub(r'!\\[[^\\]]*\\]\\([^)]*\\)', '', text)\n",
    "    # Remove HTML tags\n",
    "    text = re.sub(r'</?[^>]*>', '', text)\n",
    "    # Remove special characters\n",
    "    text = re.sub(r'[#*`~\\-–^=<>+|/:]', '', text)\n",
    "    # Remove footnote references\n",
    "    text = re.sub(r'\\[[0-9]*\\]', '', text)\n",
    "    # Remove enumerations\n",
    "    text = re.sub(r'[0-9#]*\\.', '', text)\n",
    "    \n",
    "    return len(text.split())"
   ],
   "metadata": {
    "collapsed": false,
    "pycharm": {
     "name": "#%%\n",
     "is_executing": false
    }
   }
  },
  {
   "cell_type": "code",
   "execution_count": 69,
   "outputs": [
    {
     "name": "stdout",
     "text": [
      "number of .md files within 'content/blog/' dir:    1\n",
      "21 --> words across all the .md files.\n"
     ],
     "output_type": "stream"
    }
   ],
   "source": [
    "\"\"\"\n",
    "glob pattern elements;\n",
    "- `**` - Feature known as globstar. Matches all files and zero or more directories and subdirectories. \n",
    "- `*` - Matches any string.\n",
    "- `?` - Matches single character.\n",
    "- `.md` - Matches files with a `.md` suffix.\n",
    "\"\"\"\n",
    "\n",
    "abs_path: Union[Path, Any] = pathlib.Path(\"/Users/wojtek/PycharmProjects/wojtekzubera.dev/content\")\n",
    "\n",
    "all_md: List[Any] = []\n",
    "\n",
    "for file in abs_path.glob('**/blog/**/*.md'):\n",
    "    if file.suffix == '.md':\n",
    "        all_md.append(file)\n",
    "        \n",
    "print(f\"number of .md files within 'content/blog/' dir:    {len(all_md)}\")\n",
    "\n",
    "total_word_count_md: int = 0\n",
    "\n",
    "for file in all_md:\n",
    "    total_word_count_md += count_words_in_markdown(file)\n",
    "    \n",
    "print(f\"{total_word_count_md} --> words across all the .md files.\")"
   ],
   "metadata": {
    "collapsed": false,
    "pycharm": {
     "name": "#%%\n",
     "is_executing": false
    }
   }
  },
  {
   "cell_type": "code",
   "execution_count": 70,
   "outputs": [],
   "source": [
    "def count_words_in_ipynb(file_path: str, return_type: str = 'markdown'):\n",
    "    \"\"\"\n",
    "    1. Read the notebook as a json files.\n",
    "    2. Loop through all the cells within the notebook.\n",
    "    3. If the cell type matches the type we want, count the words using a similar method.\n",
    "    4. Sum all the counts to get the total for the notebook.\n",
    "    \"\"\"\n",
    "    with io.open(file_path, 'r', encoding='utf8') as f:\n",
    "        nbk = current.read(f, 'json')\n",
    "        \n",
    "    word_count_md: int = 0\n",
    "    word_count_heading: int = 0\n",
    "    word_count_code: int = 0\n",
    "    \n",
    "    for cell in nbk.worksheets[0].cells:\n",
    "        if cell.cell_type == 'markdown':\n",
    "            word_count_md += len(cell['source'].replace('#', '').lstrip().split(' '))\n",
    "        elif cell.cell_type == 'heading':\n",
    "            word_count_heading += len(cell['source'].replace('#', '').lstrip().split(' '))\n",
    "        elif cell.cell_type == 'code':\n",
    "            word_count_code += len(cell['input'].replace('#', '').lstrip().split(' '))\n",
    "            \n",
    "    if return_type == 'markdown':\n",
    "        return word_count_md\n",
    "    elif return_type == 'heading':\n",
    "        return word_count_heading\n",
    "    elif return_type == 'code':\n",
    "        return word_count_code\n",
    "    else:\n",
    "        return Exception"
   ],
   "metadata": {
    "collapsed": false,
    "pycharm": {
     "name": "#%%\n",
     "is_executing": false
    }
   }
  },
  {
   "cell_type": "code",
   "execution_count": 71,
   "outputs": [
    {
     "name": "stdout",
     "text": [
      "number of .ipynb files within 'content/blog/' dir:    1\n"
     ],
     "output_type": "stream"
    }
   ],
   "source": [
    "all_ipynb: List[Any] = []\n",
    "\n",
    "for file in abs_path.glob('**/blog/**/*.ipynb'):\n",
    "    if 'checkpoint' not in file.name:\n",
    "        all_ipynb.append(file)\n",
    "        \n",
    "print(f\"number of .ipynb files within 'content/blog/' dir:    {len(all_ipynb)}\")"
   ],
   "metadata": {
    "collapsed": false,
    "pycharm": {
     "name": "#%%\n",
     "is_executing": false
    }
   }
  },
  {
   "cell_type": "code",
   "execution_count": 72,
   "outputs": [
    {
     "name": "stdout",
     "text": [
      "How many words live in code within the Jupyter notebooks:    727\n"
     ],
     "output_type": "stream"
    }
   ],
   "source": [
    "total_code_count_ipynb: int = 0\n",
    "\n",
    "for file in all_ipynb:\n",
    "    total_code_count_ipynb += count_words_in_ipynb(file, 'code')\n",
    "    \n",
    "print(f\"How many words live in code within the Jupyter notebooks:    {total_code_count_ipynb}\")"
   ],
   "metadata": {
    "collapsed": false,
    "pycharm": {
     "name": "#%%\n",
     "is_executing": false
    }
   }
  },
  {
   "cell_type": "code",
   "execution_count": null,
   "outputs": [],
   "source": [
    "\n"
   ],
   "metadata": {
    "collapsed": false,
    "pycharm": {
     "name": "#%%\n"
    }
   }
  }
 ],
 "metadata": {
  "kernelspec": {
   "display_name": "Python 3",
   "language": "python",
   "name": "python3"
  },
  "language_info": {
   "codemirror_mode": {
    "name": "ipython",
    "version": 2
   },
   "file_extension": ".py",
   "mimetype": "text/x-python",
   "name": "python",
   "nbconvert_exporter": "python",
   "pygments_lexer": "ipython2",
   "version": "2.7.6"
  },
  "pycharm": {
   "stem_cell": {
    "cell_type": "raw",
    "source": [],
    "metadata": {
     "collapsed": false
    }
   }
  }
 },
 "nbformat": 4,
 "nbformat_minor": 0
}